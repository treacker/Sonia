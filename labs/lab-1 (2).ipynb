{
 "cells": [
  {
   "cell_type": "markdown",
   "metadata": {},
   "source": [
    "## L1 – Linear models and gradient descent\n",
    "\n",
    "### Books\n",
    "1. [Deep Learning, I. Goodfellow, Y. Bengio and A. Courville](http://www.deeplearningbook.org/)\n",
    "2. [Neural networks for pattern recognition, C. Bishop](http://cs.du.edu/~mitchell/mario_books/Neural_Networks_for_Pattern_Recognition_-_Christopher_Bishop.pdf)\n",
    "3. [Machine learning: a probabilistic perspective, K. Murphy](http://dsd.future-lab.cn/members/2015nlp/Machine_Learning.pdf)"
   ]
  },
  {
   "cell_type": "markdown",
   "metadata": {},
   "source": [
    "### 0. Basic classification\n",
    "\n",
    "Here you can find basic (possible, non standard) classification of [machine learning](https://en.wikipedia.org/wiki/Machine_learning) problems.\n",
    "1. [Supervised learning](https://en.wikipedia.org/wiki/Supervised_learning)\n",
    " 1. [Regression](https://en.wikipedia.org/wiki/Regression_analysis)\n",
    " 2. [Classification](https://en.wikipedia.org/wiki/Statistical_classification)\n",
    " 3. [Ranking](https://en.wikipedia.org/wiki/Learning_to_rank)\n",
    "2. [Reinforcment learning](https://en.wikipedia.org/wiki/Reinforcement_learning)\n",
    "3. [Unsupervised learning](https://en.wikipedia.org/wiki/Unsupervised_learning)\n",
    " 1. Clustering \n",
    " 2. Manifold learning\n",
    " 3. Matrix decompostion (factorization)\n",
    " 4. Dimension reduction\n",
    " \n",
    "In this lab we focus on supervised learning only. Namely, linear regression and binary linear classification, as simple methods for beginning."
   ]
  },
  {
   "cell_type": "markdown",
   "metadata": {},
   "source": [
    "### 1. Supervised learning basics\n",
    "A supervised learning algorithm is an algorithm that is able to learn from data. Now we need only to clarify what is data and what it means to learn?\n",
    "\n",
    "Let $\\{x_i\\}_{i=1}^{\\mathcal{l}} \\subset \\mathbb{X} = \\mathbb{R}^{n}$ and $\\{y_i\\}_{i=1}^{\\mathcal{l}} \\subset \\mathbb{Y}$. Here $\\mathbb{X}$ is the whole set of objects and $\\mathbb{Y}$ is all possible labels, so $\\{x_i\\}_{i=1}^{\\mathcal{l}}$ is subset with known labels $\\{y_i\\}_{i=1}^{\\mathcal{l}}$. We want to find algorithm, that can predict $y$ for any $x \\in \\mathbb{X}$. Actually, $x = (x^1, \\dots, x^n)$ is some vector of features (formal description), but $x^k$ can have different nature. \n",
    "\n",
    "* $x^k \\in \\{0, 1\\}$ – binary feature, boolean flag\n",
    "* $x^k \\in \\{1,\\dots, m\\}$ – categorical (nominal), classification of entities into particular categories.\n",
    "* $x^k \\in \\{1,\\dots, m\\}^<$ – ordinal, classification of entities in some kind of ordered relationship.\n",
    "* $x^k \\in \\mathbb{R}$ – cardinal, classification based on a numerical value.\n",
    "\n",
    "Categorical features are commonly encoded in some way (for exaple [one-hot encoding](https://en.wikipedia.org/wiki/One-hot)) to ignore false ordering (important for metric algorithms). Moreover it's possible to cast any type of feature to $\\mathbb{R}$, that's why we suppouse that $\\mathbb{X} = \\mathbb{R}^{n}$ further.\n",
    "\n",
    "Process of finding algorithm, that can predict labels, is called training. Usually, it is reduced to minimization problem of the empirical risk.\n",
    "$$\\arg \\min_{\\theta} Q(\\theta) = \\arg \\min_{\\theta} \\frac{1}{\\mathcal{l}}\\sum_{i=1}^{\\mathcal{l}} \\mathcal{L}(f(x_i | \\theta), y_i).$$\n",
    "Here $\\mathcal{L}$ – some loss function that shows how good we predict $y$, and $f(x|\\theta)$ is parametric function, where $\\theta \\in \\Theta$."
   ]
  },
  {
   "cell_type": "markdown",
   "metadata": {},
   "source": [
    "### 2. Linear regression\n",
    "For regression task $\\mathbb{Y} = \\mathbb{R}$. In case of linear model we have learning vector of parameters $w \\in \\mathbb{R}^n$ and predict $y$ as \n",
    "$$y = w^Tx + b.$$\n",
    "\n",
    "For simplicity, let the last element of $x$ is always $1$ and $w$ is concatenation of $[w, b]$. So, we can rewrite model as $y = w^Tx$. For MSE (mean square error) we have following optimization problem\n",
    "$$\\arg \\min_{w} Q(w) = \\arg \\min_{w} \\sum_{i=1}^{\\mathcal{l}}\\big(w^Tx_i - y_i\\big)^2.$$\n",
    "\n",
    "Let $X$ is a matrix, where $i$-th row is a feature vector of $i$-th object and $Y$ – a vector of labels. In this case our expression can be rewritten in matrix form\n",
    "$$\\arg\\min_{w}||Xw - Y ||_{2}.$$\n",
    "But this problem is already well studied and has the analytical solution\n",
    "$$w = (X^TX)^{-1}X^TY.$$\n",
    "\n",
    "#### Exercises\n",
    "1. Let $y = sin(x) + \\varepsilon$, where $x \\in [0, 2\\pi]$ and $\\varepsilon \\sim \\mathcal{N}(0, 0.1)$. Generate 20 train samples and train regression model.\n",
    "2. Plot train data and model's predictions.\n",
    "3. As you can see, model has no enough capacity to fit train data. Let's add polynomial features, namely $x^2$ and $x^3$.\n",
    "4. Train linear model one more time and plot results again.\n",
    "5. What happens if you add more features, for example full range $x^{0},\\dots,x^{7}$? "
   ]
  },
  {
   "cell_type": "code",
   "execution_count": 2,
   "metadata": {
    "collapsed": true
   },
   "outputs": [],
   "source": [
    "# Запустите этот код\n",
    "import numpy as np\n",
    "\n",
    "import scipy.linalg as sla\n",
    "\n",
    "import matplotlib.pyplot as plt\n",
    "%matplotlib inline\n",
    "from copy import deepcopy\n",
    "\n",
    "from scipy.interpolate import UnivariateSpline\n",
    "import random\n",
    "import seaborn as sns\n",
    "import math"
   ]
  },
  {
   "cell_type": "markdown",
   "metadata": {},
   "source": [
    "#### Exercise 1\n",
    "\n",
    "私はアニメを見ていない"
   ]
  },
  {
   "cell_type": "code",
   "execution_count": 3,
   "metadata": {
    "scrolled": false
   },
   "outputs": [
    {
     "name": "stdout",
     "output_type": "stream",
     "text": [
      "[[-0.29537124]\n",
      " [ 0.86495366]]\n",
      "Linear model is y = kx + b\n",
      "k = -0.295371244025 , b = 0.864953664046\n"
     ]
    }
   ],
   "source": [
    "N = 20\n",
    "\n",
    "x_train = (np.array([0.0] * N)).reshape(N, 1)\n",
    "y_train = (np.array([0.0] * N)).reshape(N, 1)\n",
    "\n",
    "\n",
    "for i in range(N):\n",
    "    x_train[i] = i * math.pi / 10\n",
    "    y_train[i] = math.sin(x_train[i]) + random.gauss(0, 0.1)\n",
    "\n",
    "ones = np.ones(N).reshape(N, 1)\n",
    "o_train = np.concatenate((x_train, ones), axis=1)\n",
    "inv_train = sla.inv(np.dot(o_train.T, o_train))\n",
    "a_l = np.dot(np.dot(inv_train, o_train.T), y_train)\n",
    "k = a_l[0, 0]\n",
    "b = a_l[1, 0]\n",
    "print(a_l)\n",
    "\n",
    "print('Linear model is y = kx + b')\n",
    "print('k =', k, ', b =', b)"
   ]
  },
  {
   "cell_type": "markdown",
   "metadata": {},
   "source": [
    "#### Exercise 2\n",
    "\n",
    "Das ist eine Modell"
   ]
  },
  {
   "cell_type": "code",
   "execution_count": 4,
   "metadata": {
    "scrolled": false
   },
   "outputs": [
    {
     "data": {
      "image/png": "[encoded data removed]",
      "text/plain": [
       "<matplotlib.figure.Figure at 0xc91c96ba8>"
      ]
     },
     "metadata": {},
     "output_type": "display_data"
    }
   ],
   "source": [
    "plt.scatter(x_train, y_train)\n",
    "plt.plot(x_train, k * x_train + b, label = \"Linear\")\n",
    "plt.legend()\n",
    "plt.show()"
   ]
  },
  {
   "cell_type": "markdown",
   "metadata": {},
   "source": [
    "#### Exercise 3\n",
    "\n",
    "Now we add features up to $x^3$"
   ]
  },
  {
   "cell_type": "code",
   "execution_count": 5,
   "metadata": {},
   "outputs": [
    {
     "name": "stdout",
     "output_type": "stream",
     "text": [
      "[[ 0.08579261]\n",
      " [-0.79354381]\n",
      " [ 1.64368633]\n",
      " [-0.05121156]]\n"
     ]
    }
   ],
   "source": [
    "x_pow_train = deepcopy(x_train)\n",
    "x_tr = np.concatenate((x_train, ones), axis=1)\n",
    "\n",
    "\n",
    "k = 3\n",
    "\n",
    "for i in range(k):\n",
    "    a = sla.inv(np.dot(x_tr.T, x_tr))\n",
    "    a = np.dot(np.dot(a, x_tr.T), y_train)\n",
    "    if i != k - 1:\n",
    "        x_pow_train *= x_train\n",
    "        x_tr = np.concatenate((x_pow_train, x_tr), axis=1)\n",
    "\n",
    "\n",
    "print(a)"
   ]
  },
  {
   "cell_type": "markdown",
   "metadata": {},
   "source": [
    "#### Exercise 4"
   ]
  },
  {
   "cell_type": "code",
   "execution_count": 6,
   "metadata": {
    "scrolled": true
   },
   "outputs": [
    {
     "data": {
      "image/png": "[encoded data removed]",
      "text/plain": [
       "<matplotlib.figure.Figure at 0xc933555c0>"
      ]
     },
     "metadata": {},
     "output_type": "display_data"
    }
   ],
   "source": [
    "plt.scatter(x_train, y_train)\n",
    "\n",
    "plt.plot(x_train, np.dot(x_tr, a), label = \"3rd degree\")\n",
    "    \n",
    "plt.legend()\n",
    "plt.show()"
   ]
  },
  {
   "cell_type": "markdown",
   "metadata": {},
   "source": [
    "#### Exercise 5\n",
    "\n",
    "Up to $x^7$ go go go"
   ]
  },
  {
   "cell_type": "code",
   "execution_count": 7,
   "metadata": {
    "scrolled": true
   },
   "outputs": [
    {
     "name": "stdout",
     "output_type": "stream",
     "text": [
      "\n",
      "The polynomial of the 1 degree\n",
      "Mean-square error for train data is 0.177343463867\n",
      "\n",
      "The polynomial of the 2 degree\n",
      "Mean-square error for train data is 0.171828577559\n",
      "\n",
      "The polynomial of the 3 degree\n",
      "Mean-square error for train data is 0.0156987753799\n",
      "\n",
      "The polynomial of the 4 degree\n",
      "Mean-square error for train data is 0.0152628675376\n",
      "\n",
      "The polynomial of the 5 degree\n",
      "Mean-square error for train data is 0.00607728259856\n",
      "\n",
      "The polynomial of the 6 degree\n",
      "Mean-square error for train data is 0.00584801538058\n",
      "\n",
      "The polynomial of the 7 degree\n",
      "Mean-square error for train data is 0.00569657203503\n"
     ]
    },
    {
     "data": {
      "image/png": "[encoded data removed]",
      "text/plain": [
       "<matplotlib.figure.Figure at 0xc937e8278>"
      ]
     },
     "metadata": {},
     "output_type": "display_data"
    }
   ],
   "source": [
    "plt.scatter(x_train, y_train)\n",
    "\n",
    "x_pow_train = deepcopy(x_train)\n",
    "x_tr = np.concatenate((x_train, ones), axis=1)\n",
    "\n",
    "k = 7\n",
    "\n",
    "for i in range(k):\n",
    "    a = sla.inv(np.dot(x_tr.T, x_tr))\n",
    "    a = np.dot(np.dot(a, x_tr.T), y_train)\n",
    "\n",
    "    print(\"\\nThe polynomial of the\", i + 1, \"degree\")\n",
    "    print(\"Mean-square error for train data is\", *sum((np.dot(x_tr, a) - y_train)**2) / N)\n",
    "    if i != k - 1:\n",
    "        x_pow_train *= x_train\n",
    "        x_tr = np.concatenate((x_pow_train, x_tr), axis=1)\n",
    "\n",
    "\n",
    "plt.plot(x_train, np.dot(x_tr, a), label = \"7th degree\")\n",
    "\n",
    "\n",
    "plt.legend()\n",
    "plt.show()"
   ]
  },
  {
   "cell_type": "markdown",
   "metadata": {},
   "source": [
    "Uh, smth weird happend, probably overfitting\n",
    "\n",
    "Btw, sometimes it can be pretty good\n"
   ]
  },
  {
   "cell_type": "markdown",
   "metadata": {},
   "source": [
    "### 3. Validation\n",
    "The data used to build the final model usually comes from multiple datasets. In particular, three data sets are commonly used in different stages of the creation of the model.\n",
    "\n",
    "1. We initially fit our parameters on a __training dataset__, that consists of pairs of a feature vector and the corresponding answer. The current model is run with the training dataset and produces a result, which is then compared with the target, for each input vector in the training dataset. Based on the result of the comparison and the specific learning algorithm being used, the parameters of the model are adjusted. The model fitting can include both variable selection and parameter estimation.\n",
    "\n",
    "2. Second one called the __validation dataset__. The validation dataset provides an unbiased evaluation of a model fit on the training dataset while tuning the model's hyperparameters (e.g. regularization coefficient or number of hidden units in a neural network). Validation datasets can be used for regularization by early stopping: stop training when the error on the validation dataset increases, as this is a sign of overfitting to the training dataset. This simple procedure is complicated in practice by the fact that the validation dataset's error may fluctuate during training. This complication has led to the creation of many ad-hoc rules for deciding when overfitting has truly begun.\n",
    "\n",
    "3. Finally, the __test dataset__ is a dataset used to provide an unbiased evaluation of a final trained model.\n",
    "\n",
    "Cross-validation is a validation technique for estimating how accurately a predictive model will perform in practice. The goal of cross validation is to limit problems like overfitting, give an insight on how the model will generalize to an independent dataset.\n",
    "\n",
    "Cross-validation involves partitioning a sample of data into complementary subsets, performing the analysis on one subset and making validation on the other. To reduce variability, multiple rounds of cross-validation are performed using different partitions, and the validation results are caveraged over the rounds to estimate a final predictive model.\n",
    "\n",
    "There are following types:\n",
    "1. Leave-p-out cross-validation - use p observations as the validation set with all possible ways.\n",
    "2. k-fold cross-validation - split data into k folds and use each one as validation set.\n",
    "3. Holdout validation - randomly split data into training and validation set\n",
    "4. Repeated random sub-sampling validation - repeatedly make random splits of data into training and validation set\n",
    "\n",
    "#### Exercises\n",
    "1. Generate 20 validation samples\n",
    "2. Check quality of your model on train and validation sets.\n",
    "3. Have you experienced [overfitting](https://en.wikipedia.org/wiki/Overfitting)?\n",
    "4. Please, read [this article](https://en.wikipedia.org/wiki/VC_dimension) to learn more about model capacity and VC-dimension."
   ]
  },
  {
   "cell_type": "code",
   "execution_count": 8,
   "metadata": {
    "scrolled": true
   },
   "outputs": [
    {
     "name": "stdout",
     "output_type": "stream",
     "text": [
      "mse for polynomial of 1 degree is\n",
      "train -  0.0389434208219 test -  0.0680763945958\n",
      "mse for polynomial of 2 degree is\n",
      "train -  0.0126092543967 test -  0.897534240282\n",
      "mse for polynomial of 3 degree is\n",
      "train -  0.00261031065931 test -  0.00157500091602\n",
      "mse for polynomial of 4 degree is\n",
      "train -  0.00178949736067 test -  0.377985730042\n",
      "mse for polynomial of 5 degree is\n",
      "train -  0.00175620275913 test -  0.825325507905\n",
      "mse for polynomial of 6 degree is\n",
      "train -  0.0017017451722 test -  3.32209095182\n",
      "mse for polynomial of 7 degree is\n",
      "train -  0.00151979977208 test -  5.68787844403\n",
      "mse for polynomial of 8 degree is\n",
      "train -  0.00151979915786 test -  5.59508889504\n"
     ]
    }
   ],
   "source": [
    "from sklearn.model_selection import KFold\n",
    "\n",
    "N = 40\n",
    "n_t = 32\n",
    "n_v = 8\n",
    "x_sample = (np.array([0.0] * N)).reshape(N, 1)\n",
    "y_sample = (np.array([0.0] * N)).reshape(N, 1)\n",
    "\n",
    "x_train = (np.array([0.0] * n_t)).reshape(n_t, 1)\n",
    "y_train = (np.array([0.0] * n_t)).reshape(n_t, 1)\n",
    "\n",
    "x_test = (np.array([0.0] * n_v)).reshape(n_v, 1)\n",
    "y_test = (np.array([0.0] * n_v)).reshape(n_v, 1)\n",
    "\n",
    "for i in range(N):\n",
    "    x_sample[i] = 2 * i * math.pi / N\n",
    "    y_sample[i] = math.sin(x_sample[i]) + random.gauss(0, 0.1)\n",
    "\n",
    "kf = KFold(n_splits=5)\n",
    "kf.get_n_splits(x_sample)\n",
    "\n",
    "#print(kf)\n",
    "for train_index, test_index in kf.split(x_sample, y_sample):\n",
    "    #print(\"TRAIN:\", train_index, \"TEST:\", test_index)\n",
    "    x_train, x_test = x_sample[train_index], x_sample[test_index]\n",
    "    y_train, y_test = y_sample[train_index], y_sample[test_index]\n",
    "    \n",
    "    \n",
    "    o_train = np.concatenate((x_train, np.ones(n_t).reshape(n_t, 1)), axis=1)\n",
    "    inv_train = sla.inv(np.dot(o_train.T, o_train))\n",
    "    a = np.dot(np.dot(inv_train, o_train.T), y_train)\n",
    "    \n",
    "    x_pow_train = deepcopy(x_train)\n",
    "    x_tr = np.concatenate((x_train, np.ones(n_t).reshape(n_t, 1)), axis=1)\n",
    "    \n",
    "    x_pow_test = deepcopy(x_test)\n",
    "    x_te = np.concatenate((x_test, np.ones(n_v).reshape(n_v, 1)), axis=1)\n",
    "    \n",
    "    \n",
    "    #plt.scatter(x_test, y_test)\n",
    "    k = 8\n",
    "\n",
    "    average_error_test = [0.0] * k;\n",
    "    average_error_train = [0.0] * k;\n",
    "\n",
    "    for i in range(k):\n",
    "        a = sla.inv(np.dot(x_tr.T, x_tr))\n",
    "        a = np.dot(np.dot(a, x_tr.T), y_train)\n",
    "    \n",
    "        #print(\"\\nThe polynomial of the\", i + 1, \"degree\")\n",
    "        q = sum((np.dot(x_tr, a) - y_train)**2) / n_t / 5\n",
    "        p = sum((np.dot(x_te, a) - y_test)**2) / n_v / 5\n",
    "        #print(\"Mean-square error for train data is\", *sum((np.dot(x_tr, a) - y_train)**2) / n_t)\n",
    "        #print(\"Mean-square error for test data is\", *sum((np.dot(x_te, a) - y_test)**2) / n_v)\n",
    "\n",
    "        average_error_train[i] += q[0]\n",
    "        average_error_test[i] += p[0]\n",
    "\n",
    "        if i != k - 1:\n",
    "            x_pow_train *= x_train\n",
    "            x_tr = np.concatenate((x_pow_train, x_tr), axis=1)\n",
    "            x_pow_test *= x_test\n",
    "            x_te = np.concatenate((x_pow_test, x_te), axis=1)\n",
    "        \n",
    "for i in range(k):\n",
    "    print('mse for polynomial of', i + 1, 'degree is')\n",
    "    print('train - ', average_error_train[i], 'test - ', average_error_test[i])\n"
   ]
  },
  {
   "cell_type": "markdown",
   "metadata": {
    "collapsed": true
   },
   "source": [
    "So, in general, the 3rd degree of polynom is winning over others. That is happening because of overfitting"
   ]
  },
  {
   "cell_type": "markdown",
   "metadata": {},
   "source": [
    "### 4. Binary linear classification\n",
    "Let $\\mathbb{Y} = \\{-1, +1\\}$ for binary classification. So linear model looks like\n",
    "$$sign(w^Tx + b),$$\n",
    "where $w$ is a normal to the separating plane, which is defined parametrically $w^Tx+b=0$. In the half-space, which normal is directed, all points has class +1, otherwise -1. Let's assume that all points of hyperplane has class +1 to resolve the ambiguity. Also we rewrite model in the short variant $sign(w^Tx)$.\n",
    "\n",
    "As with regression, training of linear classifier may be reduced to an optimization problem. We only have to specify the loss function. The most nature option is\n",
    "$$\\mathcal{L}(y_{pred}, y_{true}) = [y_{pred} \\neq y_{true}] = [M < 0],$$\n",
    "where $M$ is the margin value $yw^Tx$, which indicates how far the classifier puts a point in its class. But this loss has one drawback, it's not differentiable. That's why the optimization problem becomes very complex. However we can use any other function, which majorizes this loss. You can find some popular options below\n",
    "\n",
    "1. MSE has one big advantage, we optimize convex function with a local minimum. Moreover analytic solution exists.\n",
    "$$\\big(w^Tx - y \\big)^2$$\n",
    "\n",
    "2. Hinge loss function makes our linear classifier [SVM](https://en.wikipedia.org/wiki/Support_vector_machine) (support vector machine).\n",
    "$$max \\big(0, 1 - yw^Tx \\big)$$\n",
    "\n",
    "3. Logistic loss function has a probabilistic meaning. In particular, this loss leads us to the optimal [Bayesian classifier](https://en.wikipedia.org/wiki/Naive_Bayes_classifier) under certain assumptions on the distribution of features. But it's a different story. So it is often used in practice.\n",
    "$$\\ln \\big( 1 + \\exp(-yw^Tx) \\big)$$"
   ]
  },
  {
   "cell_type": "markdown",
   "metadata": {},
   "source": [
    "#### Exercises\n",
    "1. Read [this](https://en.wikipedia.org/wiki/Maximum_likelihood_estimation) article about MLE.\n",
    "2. Get the likelihood function for a random [Bernoulli](https://en.wikipedia.org/wiki/Bernoulli_distribution) value with the probability p of a successful outcome.\n",
    "3. Let's suppouse that our estimation of $p$ is $\\sigma(w^Tx)$, where $\\sigma(z) = \\frac{1}{1 + \\exp(-z)}$. Show that Logistic loss function $$\\arg\\min_{w} \\sum_{x, y} \\ln \\big(1 + \\exp(-yw^Tx )) \\big)$$ is nothing like the maximization of the likelihood.\n",
    "4. Plot all loss functions in the axes $M \\times L$.\n",
    "5. Generate two normally distributed sets of points on the plane.\n",
    "6. Let points of 1th set (red color) have class +1 and point of 2d set (blue color) have -1.\n",
    "7. Train linear classifier with MSE (use analytical solution), which splits these sets.\n",
    "8. Plot points and separating line of trained classifier.\n",
    "9. What is time comlexity of your solution?"
   ]
  },
  {
   "cell_type": "markdown",
   "metadata": {},
   "source": [
    "2. Random Bernoulli value is has 2 values: 1 and 0 and parametr $p$\n",
    "   So, likelihood function will be $$L(x | p) = p^{x} \\cdot (1 - x)^{n - x}$$\n",
    "   Maximazing function is similar to maximazing logarithm of this function, so we can work with it.\n",
    "   Now, $$L(x | p) = \\sum_{i = 1}^{n} ln f_X(x_i | p) = \\sum_{x \\in X} ln ([y = 1]p + [y = 0](1 - p) = \\sum_{x \\in X} [y = 1]ln(p) + [y = 0]ln(1 - p)$$\n",
    "3. Now we know $p = \\sigma(w^Tx)$, where $\\sigma(z) = \\frac{1}{1 + \\exp(-z)}$\n",
    "   So, $$L(x | p) = \\sum_{x \\in X} [y = 1]ln\\frac{1}{1 + \\exp(-w^Tx)} + [y = 0]ln (1 - \\frac{1}{1 + \\exp(-w^Tx)})$$\n",
    "   Now  we can spot, that maximizing $1 / x$ is similar to minimizing $x$, and logarithm is a monotonous function, so maximizing likelihood function is similar to minimizing Logistic loss function.\n",
    "4. "
   ]
  },
  {
   "cell_type": "code",
   "execution_count": 23,
   "metadata": {
    "scrolled": true
   },
   "outputs": [
    {
     "data": {
      "image/png": "[encoded data removed]",
      "text/plain": [
       "<matplotlib.figure.Figure at 0xcab371208>"
      ]
     },
     "metadata": {},
     "output_type": "display_data"
    }
   ],
   "source": [
    "m_range = np.linspace(-1, 3, 100)\n",
    "\n",
    "\n",
    "plt.plot([0, 0], [0,0], color='black')\n",
    "plt.plot(m_range, (m_range - 1) ** 2, label = 'MSE')\n",
    "plt.plot(m_range, [max(0, 1 - m) for m in m_range], label = 'SVM')\n",
    "plt.plot(m_range, np.log(1 + np.e **(-m_range)), label = 'Logistic loss')\n",
    "\n",
    "\n",
    "plt.xlabel('M')\n",
    "plt.ylabel('L')\n",
    "plt.legend()\n",
    "plt.grid(True)\n",
    "plt.show()\n"
   ]
  },
  {
   "cell_type": "code",
   "execution_count": 22,
   "metadata": {
    "scrolled": false
   },
   "outputs": [
    {
     "data": {
      "image/png": "[encoded data removed]",
      "text/plain": [
       "<matplotlib.figure.Figure at 0xcad647358>"
      ]
     },
     "metadata": {},
     "output_type": "display_data"
    }
   ],
   "source": [
    "\n",
    "x_red, y_red = np.random.multivariate_normal(np.array([1, -1]), np.array([[1, 1.5],[1.5,5]]), 100).T\n",
    "x_blue, y_blue = np.random.multivariate_normal(np.array([-1,1]), np.array([[1, 1.5],[1.5,5]]), 100).T\n",
    "\n",
    "X = np.hstack(([x_red, y_red], [x_blue, y_blue]))\n",
    "X = (np.vstack((X, np.ones((1, 200))))).T\n",
    "\n",
    "Y = np.vstack((np.ones((100, 1)), -np.ones((100, 1)) ))\n",
    "\n",
    "\n",
    "inv_train = sla.inv(np.dot(X.T, X))\n",
    "w = np.dot(np.dot(inv_train, X.T), Y)\n",
    "\n",
    "k = -w[0] / w[1]\n",
    "b = -w[2] / w[1]\n",
    "\n",
    "X = np.linspace(-3, 3, 100)\n",
    "\n",
    "plt.plot(X, [(k * x + b) for x in X], color = 'black', linewidth = '2')\n",
    "\n",
    "\n",
    "plt.plot(x_red, y_red, '.', color = 'r')\n",
    "plt.plot(x_blue, y_blue, '.', color = 'b')\n",
    "plt.grid(True)\n",
    "plt.show()"
   ]
  },
  {
   "cell_type": "markdown",
   "metadata": {},
   "source": [
    "Time complexity of making data is $O(N)$\n",
    "\n",
    "Time complexity of multiplying matrices is $O(N^2)$\n",
    "\n",
    "So, overal complexity is $O(N^2)$"
   ]
  },
  {
   "cell_type": "markdown",
   "metadata": {},
   "source": [
    "### 5. Gradient descent\n",
    "Gradient descent is a first-order iterative optimization algorithm for finding the minimum of a function. To find a local minimum of a function using gradient descent, one takes steps proportional to the negative of the gradient of the function at the current point. Gradient descent is based on the observation that if function $Q(x)$ is defined and differentiable in a neighborhood of a point $x$, then $Q(x)$ decreases fastest if one goes from $x$  in the direction of the negative gradient.\n",
    "\n",
    "$$x^{k+1} = x^{k} - \\lambda \\cdot \\triangledown Q(x)$$\n",
    "\n",
    "Here $\\lambda$ is step of descent and  $k$ – step number. If $\\lambda$ is too large then algorithm may not converge, otherwise training can last a long time. Also there is rather popular hack to slowly decrease $\\lambda$ with each step. You need to understand that gradient descent finds exactly local minimum. The easiest way to fight this problem is make several runs of algorithm or have good initialization.\n",
    "\n",
    "#### Exercises\n",
    "1. Suggest some quadratic function $Q: \\mathbb{R}^2 \\rightarrow \\mathbb{R}$ with global minimum.\n",
    "2. Find minimum with gradient descent method.\n",
    "3. Plot contour lines.\n",
    "4. Trace the path of gradient descent.\n",
    "5. How do you choose $\\lambda$?\n",
    "6. Evaluate time complexity of solution."
   ]
  },
  {
   "cell_type": "code",
   "execution_count": 13,
   "metadata": {
    "scrolled": true
   },
   "outputs": [
    {
     "name": "stdout",
     "output_type": "stream",
     "text": [
      "0 0\n"
     ]
    },
    {
     "data": {
      "text/plain": [
       "[]"
      ]
     },
     "execution_count": 13,
     "metadata": {},
     "output_type": "execute_result"
    },
    {
     "data": {
      "image/png": "[encoded data removed]",
      "text/plain": [
       "<matplotlib.figure.Figure at 0xc9461c9e8>"
      ]
     },
     "metadata": {},
     "output_type": "display_data"
    }
   ],
   "source": [
    "import math\n",
    "\n",
    "def f(x):\n",
    "    return x[0] ** 2 + x[1] ** 2\n",
    "\n",
    "def grad(x):\n",
    "    return [2 * x[0], 2 * x[1]]\n",
    "\n",
    "now_x = [np.random.uniform(0, 100), np.random.uniform(0, 100)]\n",
    "lambd = 0.1;\n",
    "eps = 0.05\n",
    "g = grad(now_x)\n",
    "while (g > [eps, eps] or g < [-eps, -eps]):\n",
    "    \n",
    "\n",
    "    now_x[0] -= lambd * g[0]\n",
    "    now_x[1] -= lambd * g[1]\n",
    "    g = grad(now_x)\n",
    "    \n",
    "    r = math.sqrt(now_x[0] ** 2 + now_x[1] ** 2)\n",
    "    X = np.linspace(-r, r, 100)\n",
    "    plt.plot(X, [math.sqrt(r ** 2 - x ** 2) for x in X], color = 'b')\n",
    "    plt.plot(X, [-math.sqrt(r ** 2 - x ** 2) for x in X], color = 'b')\n",
    "    plt.plot(now_x[0], now_x[1], 'o', color = 'r')\n",
    "\n",
    "    \n",
    "    \n",
    "\n",
    "\n",
    "\n",
    "print(round(now_x[0]), round(now_x[1]))\n",
    "\n",
    "\n",
    "\n",
    "\n",
    "plt.plot()"
   ]
  },
  {
   "cell_type": "markdown",
   "metadata": {},
   "source": [
    "$\\lambda$ shouldn't be very big and very small so this is it."
   ]
  },
  {
   "cell_type": "markdown",
   "metadata": {},
   "source": [
    "There is category of function which naive gradient descent works poorly for, e.g. [Rosenbrock function](https://en.wikipedia.org/wiki/Rosenbrock_function).\n",
    "$$f(x, y) = (1-x)^2 + 100(y-x^2)^2.$$\n",
    "\n",
    "#### Exercises\n",
    "1. Repeat previous steps for Rosenbrock function.\n",
    "2. What problem do you face?\n",
    "3. Is there any solution?"
   ]
  },
  {
   "cell_type": "code",
   "execution_count": null,
   "metadata": {
    "scrolled": true
   },
   "outputs": [],
   "source": [
    "import math\n",
    "\n",
    "def f(x):\n",
    "    return (1 - x[0]) ** 2 + 100(x[1] - x[1] ** 2) ** 2\n",
    "\n",
    "def grad(x, y):\n",
    "    return [2 * (-1 + x + 200 * x * y + 200 * x ** 3), 200 * (y -  x ** 2)]\n",
    "\n",
    "now_x = [np.random.uniform(0, 2), np.random.uniform(0, 2)]\n",
    "prev = [0, 0]\n",
    "\n",
    "lambd = 10e-4\n",
    "eps = 10e-3\n",
    "g = grad(now_x[0], now_x[1])\n",
    "\n",
    "while (math.sqrt((now_x[0] - prev[0]) ** 2 + (now_x[1] - prev[1]) ** 2) > eps):\n",
    "    next_x = now_x[0] - lambd * g[0]\n",
    "    next_y = now_x[1] - lambd * g[1]\n",
    "\n",
    "    plt.plot(np.array([next_x, now_x[0]]), np.array([next_y, now_x[1]]), color='blue')\n",
    "    plt.scatter(next_x, next_y, 10, color='r')\n",
    "\n",
    "    g = grad(next_x, next_y)\n",
    "    \n",
    "    now_x[0] = next_x\n",
    "    now_x[1] = next_y\n",
    "\n",
    "print(round(now_x[0]), round(now_x[1]))\n",
    "\n",
    "plt.show()"
   ]
  },
  {
   "cell_type": "code",
   "execution_count": null,
   "metadata": {
    "scrolled": true
   },
   "outputs": [],
   "source": []
  },
  {
   "cell_type": "code",
   "execution_count": null,
   "metadata": {
    "collapsed": true
   },
   "outputs": [],
   "source": []
  },
  {
   "cell_type": "markdown",
   "metadata": {},
   "source": [
    "I faced problem, that "
   ]
  },
  {
   "cell_type": "markdown",
   "metadata": {},
   "source": [
    "There are some variations of the method, for example steepest descent, where we find optimal $\\lambda$ for each step.\n",
    "$$\\lambda^{k} = \\arg\\min_{\\lambda}Q(x_k - \\lambda\\triangledown Q(x_k)).$$\n",
    "\n",
    "#### Exercises\n",
    "1. Split red and blue sets of points again. Train linear model using gradient descent and MSE.\n",
    "2. Plot your splitting line. Compare with analytical solution.\n",
    "3. Try steepest descent.\n",
    "4. Comare gradient descent methods and show its convergence in axes $[step \\times Q]$."
   ]
  },
  {
   "cell_type": "markdown",
   "metadata": {},
   "source": [
    "### 6. Stochastic gradient descent"
   ]
  },
  {
   "cell_type": "markdown",
   "metadata": {},
   "source": [
    "Sometimes you have so huge amount of data, that usual gradient descent becomes too slow. One more option, we have deal with data flow. In this case stochastic gradient method appears on the stage. The idea is simple. You can do a descent step, calculating error and gradient not for all samples, but for some small batch only.\n",
    "\n",
    "#### Еxercises\n",
    "1. Download [mnist](https://www.kaggle.com/c/digit-recognizer).\n",
    "2. Train linear classificator for digits 0 and 1, using logistic loss function and stochastic gradient descent.\n",
    "3. Use holdout to check [accuracy](https://en.wikipedia.org/wiki/Accuracy_and_precision) of classification.\n",
    "4. How do accuracy and training time depend on bathch size?\n",
    "5. Plot graphic that proves your words.\n",
    "6. How many epochs you use? Why?\n",
    "7. Plot value of loss function for each step (try use [exponential smoothing](https://en.wikipedia.org/wiki/Exponential_smoothing))."
   ]
  },
  {
   "cell_type": "markdown",
   "metadata": {},
   "source": [
    "#### Momentum method\n",
    "Stochastic gradient descent with momentum remembers the update of $x$ at each iteration, and determines the next update as a linear combination of the gradient and the previous update\n",
    "$$x^{k+1} = x^{k} - s^{k},$$ where $s^k = \\gamma s^{k-1} + \\lambda\\triangledown Q(x^k)$, $0 <\\gamma < 1$ – smoothing ratio and $s^{-1} = 0$.\n",
    "\n",
    "#### Еxercises\n",
    "1. Find minimum for $Q(x,y)=10x^2+y^2$ with descent method.\n",
    "2. Use momentum method and compare pathes.\n",
    "3. How do you choose $\\gamma$?"
   ]
  },
  {
   "cell_type": "markdown",
   "metadata": {},
   "source": [
    "#### Nesterov accelerated gradient\n",
    "And the logical development of this approach leads to the accelerated Nesterov's gradient. The descent step is calculated a little differently\n",
    "$$s^k = \\gamma s^{k-1} + \\lambda\\triangledown Q(x^k - \\gamma s^{k-1}),$$\n",
    "so we find gradient at the point which moment will move us.\n",
    "\n",
    "#### Еxercises\n",
    "1. Compare this method and previous with Rosenbrock function.\n",
    "2. Plot traces of both algorithms."
   ]
  },
  {
   "cell_type": "markdown",
   "metadata": {},
   "source": [
    "#### Adagrad (2011)\n",
    "Adaptive gradient finds lambda for each dimension of the input vector x. Informally speaking, for sparce features it makes a bigger step, but for regular ones smaller step.\n",
    "$$x_{i}^{k + 1} = x_{i}^{k} - \\frac{\\lambda}{\\sqrt{G_{i, i}^k } + \\varepsilon} \\cdot \\frac{\\partial Q}{\\partial x_i}(x^k),$$\n",
    "* $G^{k} = \\sum_{t=1}^{k}g_t g_t^{T}$, где $g_t = \\triangledown Q(x^t)$.\n",
    "* $\\varepsilon$ - epsilon to avoid division by zero.\n",
    "It improves convergence of the learning process (e.g. when using neural networks for text).\n",
    "\n",
    "#### RMSprop\n",
    "To avoid growth of the denominator we can use the following modification. Let's calculate the matrix $G^k$ only for a small number of latest steps, it can be done for example using exponential smoothing.\n",
    "$$G^{k+1} = \\gamma G^{k} + (1 - \\gamma)g_{k+1}g_{k+1}^{T},$$\n",
    "where $0< \\gamma < 1$ - smoothing factor\n",
    "\n",
    "#### Еxercises\n",
    "1. Read about adadelta and adam (links below).\n",
    "2. Give an example of a function that can show the difference in the studied stohastic gradient methods.\n",
    "3. Show animation step by step how methods work.\n",
    "4. Use your favorite method on mnist dataset again.\n",
    "5. Show convergence of alrotigthm.\n",
    "6. Check quality, using holdout.\n",
    "\n",
    "#### Papers\n",
    "1. [Adadelta (2012)](https://arxiv.org/pdf/1212.5701.pdf)\n",
    "2. [Adam (2015)](https://arxiv.org/pdf/1412.6980.pdf)"
   ]
  }
 ],
 "metadata": {
  "kernelspec": {
   "display_name": "Python 3",
   "language": "python",
   "name": "python3"
  },
  "language_info": {
   "codemirror_mode": {
    "name": "ipython",
    "version": 3
   },
   "file_extension": ".py",
   "mimetype": "text/x-python",
   "name": "python",
   "nbconvert_exporter": "python",
   "pygments_lexer": "ipython3",
   "version": "3.6.3"
  }
 },
 "nbformat": 4,
 "nbformat_minor": 1
}
